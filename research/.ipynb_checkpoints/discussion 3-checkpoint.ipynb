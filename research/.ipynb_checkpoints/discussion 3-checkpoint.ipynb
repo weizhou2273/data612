{
 "cells": [
  {
   "cell_type": "markdown",
   "metadata": {},
   "source": [
    "## Discussion 3\n",
    "### Bias in Recommender sytems"
   ]
  },
  {
   "cell_type": "markdown",
   "metadata": {},
   "source": [
    "Youtube, one of the biggest players in video content is gaining a lot of heat recently because of the service that plays in the redicaliation of the consumers by suggesting more explosive content without regard if it's real or only speculative/consprirative \n",
    "\n",
    "in [The Making of a youtube radical](https://www.nytimes.com/interactive/2019/06/08/technology/youtube-radical.html?mtrref=www.google.com&gwh=05220154DA070513904DC25505BFDF8B&gwt=pay) explains how this content is preferred over other knowing that is highly addictive and will guarantee more time in the platform, breeding a space for dissemination of fake news.\n",
    "\n",
    "There are other people digging about the issue last year as an opinion piece. In [Youtube: the great radicalizer](https://www.nytimes.com/2018/03/10/opinion/sunday/youtube-politics-radical.html) the journalist takes aim at the algorithm tune and preference for content that makes you snap, even if its contents are doubtful."
   ]
  },
  {
   "cell_type": "markdown",
   "metadata": {},
   "source": []
  }
 ],
 "metadata": {
  "kernelspec": {
   "display_name": "Python 3",
   "language": "python",
   "name": "python3"
  },
  "language_info": {
   "codemirror_mode": {
    "name": "ipython",
    "version": 2
   },
   "file_extension": ".py",
   "mimetype": "text/x-python",
   "name": "python",
   "nbconvert_exporter": "python",
   "pygments_lexer": "ipython2",
   "version": "2.7.14"
  }
 },
 "nbformat": 4,
 "nbformat_minor": 2
}
