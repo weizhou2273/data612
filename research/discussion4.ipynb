{
 "cells": [
  {
   "cell_type": "markdown",
   "metadata": {},
   "source": [
    "### Discussion 4\n",
    "#### Alvaro Bueno\n",
    "\n",
    "With human judgement and bias transferred to algorithms, is easy for a company, government or any entity that invest in Machine Learning algorithms to fall in bad practices, to promote duboius quality content, or to enable harm for humans in the long term. Automation is so pervaqsive and can involve so many disciplines that no longers is the task of lawyers, according to this article in [MIT Sloan Review](https://sloanreview.mit.edu/article/what-does-an-ai-ethicist-do/)\n",
    "\n",
    "Of course, many organizations are increasingly paying attention to ethical issues around AI. In a 2018 Deloitte survey, 32% of AI-aware executives ranked the ethical risks of AI as one of their top three AI-related concerns\n",
    "\n",
    "AI ethicist is a profession we will see growing more and more as the systems become more complex and more intrusive with people privacy."
   ]
  },
  {
   "cell_type": "code",
   "execution_count": null,
   "metadata": {},
   "outputs": [],
   "source": []
  }
 ],
 "metadata": {
  "kernelspec": {
   "display_name": "Python 3",
   "language": "python",
   "name": "python3"
  },
  "language_info": {
   "codemirror_mode": {
    "name": "ipython",
    "version": 3
   },
   "file_extension": ".py",
   "mimetype": "text/x-python",
   "name": "python",
   "nbconvert_exporter": "python",
   "pygments_lexer": "ipython3",
   "version": "3.7.3"
  }
 },
 "nbformat": 4,
 "nbformat_minor": 2
}
